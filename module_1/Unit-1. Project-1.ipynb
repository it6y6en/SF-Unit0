{
 "cells": [
  {
   "cell_type": "code",
   "execution_count": 1,
   "metadata": {
    "_cell_guid": "b1076dfc-b9ad-4769-8c92-a6c4dae69d19",
    "_uuid": "8f2839f25d086af736a60e9eeb907d3b93b6e0e5",
    "colab": {},
    "colab_type": "code",
    "id": "U2D2gTdJVp90"
   },
   "outputs": [],
   "source": [
    "import numpy as np\n",
    "import pandas as pd\n",
    "import seaborn as sns\n",
    "import matplotlib.pyplot as plt\n",
    "import itertools as it\n",
    "from collections import Counter"
   ]
  },
  {
   "cell_type": "code",
   "execution_count": 2,
   "metadata": {
    "_cell_guid": "79c7e3d0-c299-4dcb-8224-4455121ee9b0",
    "_uuid": "d629ff2d2480ee46fbb7e2d37f6b5fab8052498a",
    "colab": {},
    "colab_type": "code",
    "id": "oyGfxL3eVp9-"
   },
   "outputs": [],
   "source": [
    "data = pd.read_csv('movie_bd_v5.csv')\n",
    "#data.sample(5)"
   ]
  },
  {
   "cell_type": "code",
   "execution_count": 3,
   "metadata": {
    "colab": {},
    "colab_type": "code",
    "id": "CoYUnagMVp-C"
   },
   "outputs": [
    {
     "data": {
      "text/html": [
       "<div>\n",
       "<style scoped>\n",
       "    .dataframe tbody tr th:only-of-type {\n",
       "        vertical-align: middle;\n",
       "    }\n",
       "\n",
       "    .dataframe tbody tr th {\n",
       "        vertical-align: top;\n",
       "    }\n",
       "\n",
       "    .dataframe thead th {\n",
       "        text-align: right;\n",
       "    }\n",
       "</style>\n",
       "<table border=\"1\" class=\"dataframe\">\n",
       "  <thead>\n",
       "    <tr style=\"text-align: right;\">\n",
       "      <th></th>\n",
       "      <th>budget</th>\n",
       "      <th>revenue</th>\n",
       "      <th>runtime</th>\n",
       "      <th>vote_average</th>\n",
       "      <th>release_year</th>\n",
       "    </tr>\n",
       "  </thead>\n",
       "  <tbody>\n",
       "    <tr>\n",
       "      <th>count</th>\n",
       "      <td>1.889000e+03</td>\n",
       "      <td>1.889000e+03</td>\n",
       "      <td>1889.000000</td>\n",
       "      <td>1889.000000</td>\n",
       "      <td>1889.000000</td>\n",
       "    </tr>\n",
       "    <tr>\n",
       "      <th>mean</th>\n",
       "      <td>5.431083e+07</td>\n",
       "      <td>1.553653e+08</td>\n",
       "      <td>109.658549</td>\n",
       "      <td>6.140762</td>\n",
       "      <td>2007.860773</td>\n",
       "    </tr>\n",
       "    <tr>\n",
       "      <th>std</th>\n",
       "      <td>4.858721e+07</td>\n",
       "      <td>2.146698e+08</td>\n",
       "      <td>18.017041</td>\n",
       "      <td>0.764763</td>\n",
       "      <td>4.468841</td>\n",
       "    </tr>\n",
       "    <tr>\n",
       "      <th>min</th>\n",
       "      <td>5.000000e+06</td>\n",
       "      <td>2.033165e+06</td>\n",
       "      <td>63.000000</td>\n",
       "      <td>3.300000</td>\n",
       "      <td>2000.000000</td>\n",
       "    </tr>\n",
       "    <tr>\n",
       "      <th>25%</th>\n",
       "      <td>2.000000e+07</td>\n",
       "      <td>3.456058e+07</td>\n",
       "      <td>97.000000</td>\n",
       "      <td>5.600000</td>\n",
       "      <td>2004.000000</td>\n",
       "    </tr>\n",
       "    <tr>\n",
       "      <th>50%</th>\n",
       "      <td>3.800000e+07</td>\n",
       "      <td>8.361541e+07</td>\n",
       "      <td>107.000000</td>\n",
       "      <td>6.100000</td>\n",
       "      <td>2008.000000</td>\n",
       "    </tr>\n",
       "    <tr>\n",
       "      <th>75%</th>\n",
       "      <td>7.200000e+07</td>\n",
       "      <td>1.782626e+08</td>\n",
       "      <td>120.000000</td>\n",
       "      <td>6.600000</td>\n",
       "      <td>2012.000000</td>\n",
       "    </tr>\n",
       "    <tr>\n",
       "      <th>max</th>\n",
       "      <td>3.800000e+08</td>\n",
       "      <td>2.781506e+09</td>\n",
       "      <td>214.000000</td>\n",
       "      <td>8.100000</td>\n",
       "      <td>2015.000000</td>\n",
       "    </tr>\n",
       "  </tbody>\n",
       "</table>\n",
       "</div>"
      ],
      "text/plain": [
       "             budget       revenue      runtime  vote_average  release_year\n",
       "count  1.889000e+03  1.889000e+03  1889.000000   1889.000000   1889.000000\n",
       "mean   5.431083e+07  1.553653e+08   109.658549      6.140762   2007.860773\n",
       "std    4.858721e+07  2.146698e+08    18.017041      0.764763      4.468841\n",
       "min    5.000000e+06  2.033165e+06    63.000000      3.300000   2000.000000\n",
       "25%    2.000000e+07  3.456058e+07    97.000000      5.600000   2004.000000\n",
       "50%    3.800000e+07  8.361541e+07   107.000000      6.100000   2008.000000\n",
       "75%    7.200000e+07  1.782626e+08   120.000000      6.600000   2012.000000\n",
       "max    3.800000e+08  2.781506e+09   214.000000      8.100000   2015.000000"
      ]
     },
     "execution_count": 3,
     "metadata": {},
     "output_type": "execute_result"
    }
   ],
   "source": [
    "data.describe()"
   ]
  },
  {
   "cell_type": "markdown",
   "metadata": {
    "colab_type": "text",
    "id": "DTIt7ezGVp-G"
   },
   "source": [
    "# Предобработка"
   ]
  },
  {
   "cell_type": "code",
   "execution_count": 4,
   "metadata": {
    "colab": {},
    "colab_type": "code",
    "id": "jNb40DwKVp-H"
   },
   "outputs": [],
   "source": [
    "answers = {} # создадим словарь для ответов\n",
    "\n",
    "# добавим колонку profit для поиска по прибыльности (убыточности)\n",
    "data['profit'] = data.revenue - data.budget\n",
    "\n",
    "# в колонках со списками разбиваем строку на массив\n",
    "def convert_to_list(df, *columns):\n",
    "    for column in columns:\n",
    "        df[column] = df[column].apply(lambda x: list(i for i in x.split('|')))\n",
    "\n",
    "# далее будем всегд работать со списками(list) в тех колонках где они есть\n",
    "convert_to_list(data, 'cast','genres','production_companies','director')\n",
    "\n",
    "# для выборок по времени нам не нужен datetime, а понадобятся только месяцы\n",
    "# добавим отдельно колонку месяца\n",
    "data['release_month'] = data['release_date'].apply(lambda x: int(x.split('/')[0]))\n",
    "\n",
    "# длинна названия и описание для заданий 24,25\n",
    "data['title_length'] = data['original_title'].apply(lambda x: len(x))\n",
    "data['overview_length'] = data['overview'].apply(lambda x: len(x))"
   ]
  },
  {
   "cell_type": "code",
   "execution_count": 5,
   "metadata": {},
   "outputs": [
    {
     "data": {
      "text/html": [
       "<div>\n",
       "<style scoped>\n",
       "    .dataframe tbody tr th:only-of-type {\n",
       "        vertical-align: middle;\n",
       "    }\n",
       "\n",
       "    .dataframe tbody tr th {\n",
       "        vertical-align: top;\n",
       "    }\n",
       "\n",
       "    .dataframe thead th {\n",
       "        text-align: right;\n",
       "    }\n",
       "</style>\n",
       "<table border=\"1\" class=\"dataframe\">\n",
       "  <thead>\n",
       "    <tr style=\"text-align: right;\">\n",
       "      <th></th>\n",
       "      <th>imdb_id</th>\n",
       "      <th>budget</th>\n",
       "      <th>revenue</th>\n",
       "      <th>original_title</th>\n",
       "      <th>cast</th>\n",
       "      <th>director</th>\n",
       "      <th>tagline</th>\n",
       "      <th>overview</th>\n",
       "      <th>runtime</th>\n",
       "      <th>genres</th>\n",
       "      <th>production_companies</th>\n",
       "      <th>release_date</th>\n",
       "      <th>vote_average</th>\n",
       "      <th>release_year</th>\n",
       "      <th>profit</th>\n",
       "      <th>release_month</th>\n",
       "      <th>title_length</th>\n",
       "      <th>overview_length</th>\n",
       "    </tr>\n",
       "  </thead>\n",
       "  <tbody>\n",
       "    <tr>\n",
       "      <th>73</th>\n",
       "      <td>tt1029360</td>\n",
       "      <td>35000000</td>\n",
       "      <td>95437994</td>\n",
       "      <td>Poltergeist</td>\n",
       "      <td>[Sam Rockwell, Rosemarie DeWitt, Saxon Sharbin...</td>\n",
       "      <td>[Gil Kenan]</td>\n",
       "      <td>They're Here. And They Know What Scares You.</td>\n",
       "      <td>Legendary filmmaker Sam Raimi and director Gil...</td>\n",
       "      <td>93</td>\n",
       "      <td>[Horror, Thriller]</td>\n",
       "      <td>[Ghost House Pictures, Vertigo Entertainment, ...</td>\n",
       "      <td>5/20/2015</td>\n",
       "      <td>5.0</td>\n",
       "      <td>2015</td>\n",
       "      <td>60437994</td>\n",
       "      <td>5</td>\n",
       "      <td>11</td>\n",
       "      <td>292</td>\n",
       "    </tr>\n",
       "    <tr>\n",
       "      <th>959</th>\n",
       "      <td>tt0267248</td>\n",
       "      <td>25000000</td>\n",
       "      <td>10719357</td>\n",
       "      <td>Abandon</td>\n",
       "      <td>[Katie Holmes, Benjamin Bratt, Charlie Hunnam,...</td>\n",
       "      <td>[Stephen Gaghan]</td>\n",
       "      <td>Watch who you leave behind.</td>\n",
       "      <td>A psychological thriller about a senior at one...</td>\n",
       "      <td>99</td>\n",
       "      <td>[Drama, Mystery, Thriller]</td>\n",
       "      <td>[Paramount Pictures, Spyglass Entertainment, T...</td>\n",
       "      <td>10/14/2002</td>\n",
       "      <td>4.9</td>\n",
       "      <td>2002</td>\n",
       "      <td>-14280643</td>\n",
       "      <td>10</td>\n",
       "      <td>7</td>\n",
       "      <td>448</td>\n",
       "    </tr>\n",
       "    <tr>\n",
       "      <th>1486</th>\n",
       "      <td>tt0445946</td>\n",
       "      <td>25000000</td>\n",
       "      <td>5549200</td>\n",
       "      <td>The Contract</td>\n",
       "      <td>[Morgan Freeman, John Cusack, Alice Krige, Meg...</td>\n",
       "      <td>[Bruce Beresford]</td>\n",
       "      <td>Every Killer Meets His Equal.</td>\n",
       "      <td>Attempting to recover from a recent family tra...</td>\n",
       "      <td>96</td>\n",
       "      <td>[Drama, Action, Thriller, Crime]</td>\n",
       "      <td>[Nu Image Entertainment, 3L Filmverleih]</td>\n",
       "      <td>4/5/2006</td>\n",
       "      <td>5.4</td>\n",
       "      <td>2006</td>\n",
       "      <td>-19450800</td>\n",
       "      <td>4</td>\n",
       "      <td>12</td>\n",
       "      <td>179</td>\n",
       "    </tr>\n",
       "    <tr>\n",
       "      <th>1111</th>\n",
       "      <td>tt0327056</td>\n",
       "      <td>25000000</td>\n",
       "      <td>156822020</td>\n",
       "      <td>Mystic River</td>\n",
       "      <td>[Sean Penn, Tim Robbins, Kevin Bacon, Marcia G...</td>\n",
       "      <td>[Clint Eastwood]</td>\n",
       "      <td>We bury our sins, we wash them clean.</td>\n",
       "      <td>A story about friendship and loyalty, guilt an...</td>\n",
       "      <td>138</td>\n",
       "      <td>[Thriller, Crime, Drama, Mystery]</td>\n",
       "      <td>[Village Roadshow Pictures, Malpaso Production...</td>\n",
       "      <td>10/7/2003</td>\n",
       "      <td>7.4</td>\n",
       "      <td>2003</td>\n",
       "      <td>131822020</td>\n",
       "      <td>10</td>\n",
       "      <td>12</td>\n",
       "      <td>110</td>\n",
       "    </tr>\n",
       "    <tr>\n",
       "      <th>335</th>\n",
       "      <td>tt1193138</td>\n",
       "      <td>25000000</td>\n",
       "      <td>163670000</td>\n",
       "      <td>Up in the Air</td>\n",
       "      <td>[George Clooney, Vera Farmiga, Anna Kendrick, ...</td>\n",
       "      <td>[Jason Reitman]</td>\n",
       "      <td>The story of a man ready to make a connection.</td>\n",
       "      <td>George Clooney plays the dry cynical character...</td>\n",
       "      <td>109</td>\n",
       "      <td>[Drama, Romance]</td>\n",
       "      <td>[Paramount Pictures]</td>\n",
       "      <td>9/5/2009</td>\n",
       "      <td>6.6</td>\n",
       "      <td>2009</td>\n",
       "      <td>138670000</td>\n",
       "      <td>9</td>\n",
       "      <td>13</td>\n",
       "      <td>438</td>\n",
       "    </tr>\n",
       "  </tbody>\n",
       "</table>\n",
       "</div>"
      ],
      "text/plain": [
       "        imdb_id    budget    revenue original_title  \\\n",
       "73    tt1029360  35000000   95437994    Poltergeist   \n",
       "959   tt0267248  25000000   10719357        Abandon   \n",
       "1486  tt0445946  25000000    5549200   The Contract   \n",
       "1111  tt0327056  25000000  156822020   Mystic River   \n",
       "335   tt1193138  25000000  163670000  Up in the Air   \n",
       "\n",
       "                                                   cast           director  \\\n",
       "73    [Sam Rockwell, Rosemarie DeWitt, Saxon Sharbin...        [Gil Kenan]   \n",
       "959   [Katie Holmes, Benjamin Bratt, Charlie Hunnam,...   [Stephen Gaghan]   \n",
       "1486  [Morgan Freeman, John Cusack, Alice Krige, Meg...  [Bruce Beresford]   \n",
       "1111  [Sean Penn, Tim Robbins, Kevin Bacon, Marcia G...   [Clint Eastwood]   \n",
       "335   [George Clooney, Vera Farmiga, Anna Kendrick, ...    [Jason Reitman]   \n",
       "\n",
       "                                             tagline  \\\n",
       "73      They're Here. And They Know What Scares You.   \n",
       "959                      Watch who you leave behind.   \n",
       "1486                   Every Killer Meets His Equal.   \n",
       "1111           We bury our sins, we wash them clean.   \n",
       "335   The story of a man ready to make a connection.   \n",
       "\n",
       "                                               overview  runtime  \\\n",
       "73    Legendary filmmaker Sam Raimi and director Gil...       93   \n",
       "959   A psychological thriller about a senior at one...       99   \n",
       "1486  Attempting to recover from a recent family tra...       96   \n",
       "1111  A story about friendship and loyalty, guilt an...      138   \n",
       "335   George Clooney plays the dry cynical character...      109   \n",
       "\n",
       "                                 genres  \\\n",
       "73                   [Horror, Thriller]   \n",
       "959          [Drama, Mystery, Thriller]   \n",
       "1486   [Drama, Action, Thriller, Crime]   \n",
       "1111  [Thriller, Crime, Drama, Mystery]   \n",
       "335                    [Drama, Romance]   \n",
       "\n",
       "                                   production_companies release_date  \\\n",
       "73    [Ghost House Pictures, Vertigo Entertainment, ...    5/20/2015   \n",
       "959   [Paramount Pictures, Spyglass Entertainment, T...   10/14/2002   \n",
       "1486           [Nu Image Entertainment, 3L Filmverleih]     4/5/2006   \n",
       "1111  [Village Roadshow Pictures, Malpaso Production...    10/7/2003   \n",
       "335                                [Paramount Pictures]     9/5/2009   \n",
       "\n",
       "      vote_average  release_year     profit  release_month  title_length  \\\n",
       "73             5.0          2015   60437994              5            11   \n",
       "959            4.9          2002  -14280643             10             7   \n",
       "1486           5.4          2006  -19450800              4            12   \n",
       "1111           7.4          2003  131822020             10            12   \n",
       "335            6.6          2009  138670000              9            13   \n",
       "\n",
       "      overview_length  \n",
       "73                292  \n",
       "959               448  \n",
       "1486              179  \n",
       "1111              110  \n",
       "335               438  "
      ]
     },
     "execution_count": 5,
     "metadata": {},
     "output_type": "execute_result"
    }
   ],
   "source": [
    "data.sample(5)"
   ]
  },
  {
   "cell_type": "markdown",
   "metadata": {
    "colab_type": "text",
    "id": "YxZaH-nPVp-L"
   },
   "source": [
    "# 1. У какого фильма из списка самый большой бюджет?"
   ]
  },
  {
   "cell_type": "markdown",
   "metadata": {
    "colab_type": "text",
    "id": "Nd-G5gX6Vp-M"
   },
   "source": [
    "Использовать варианты ответов в коде решения запрещено.    \n",
    "Вы думаете и в жизни у вас будут варианты ответов?)"
   ]
  },
  {
   "cell_type": "code",
   "execution_count": 6,
   "metadata": {
    "colab": {},
    "colab_type": "code",
    "id": "uVnXAY5RVp-O"
   },
   "outputs": [],
   "source": [
    "# +\n",
    "answers['1'] = '5. Pirates of the Caribbean: On Stranger Tides (tt1298650)'"
   ]
  },
  {
   "cell_type": "code",
   "execution_count": 7,
   "metadata": {
    "colab": {},
    "colab_type": "code",
    "id": "dZwb3m28Vp-S"
   },
   "outputs": [
    {
     "data": {
      "text/html": [
       "<div>\n",
       "<style scoped>\n",
       "    .dataframe tbody tr th:only-of-type {\n",
       "        vertical-align: middle;\n",
       "    }\n",
       "\n",
       "    .dataframe tbody tr th {\n",
       "        vertical-align: top;\n",
       "    }\n",
       "\n",
       "    .dataframe thead th {\n",
       "        text-align: right;\n",
       "    }\n",
       "</style>\n",
       "<table border=\"1\" class=\"dataframe\">\n",
       "  <thead>\n",
       "    <tr style=\"text-align: right;\">\n",
       "      <th></th>\n",
       "      <th>imdb_id</th>\n",
       "      <th>original_title</th>\n",
       "    </tr>\n",
       "  </thead>\n",
       "  <tbody>\n",
       "    <tr>\n",
       "      <th>723</th>\n",
       "      <td>tt1298650</td>\n",
       "      <td>Pirates of the Caribbean: On Stranger Tides</td>\n",
       "    </tr>\n",
       "  </tbody>\n",
       "</table>\n",
       "</div>"
      ],
      "text/plain": [
       "       imdb_id                               original_title\n",
       "723  tt1298650  Pirates of the Caribbean: On Stranger Tides"
      ]
     },
     "execution_count": 7,
     "metadata": {},
     "output_type": "execute_result"
    }
   ],
   "source": [
    "data[ data.budget==data.budget.max() ][['imdb_id','original_title']]"
   ]
  },
  {
   "cell_type": "markdown",
   "metadata": {
    "colab_type": "text",
    "id": "K7L3nbRXVp-X"
   },
   "source": [
    "ВАРИАНТ 2"
   ]
  },
  {
   "cell_type": "code",
   "execution_count": 8,
   "metadata": {
    "colab": {},
    "colab_type": "code",
    "id": "OGaoQI7rVp-X"
   },
   "outputs": [],
   "source": [
    "# можно добавлять разные варианты решения"
   ]
  },
  {
   "cell_type": "markdown",
   "metadata": {
    "colab_type": "text",
    "id": "FNRbbI3vVp-c"
   },
   "source": [
    "# 2. Какой из фильмов самый длительный (в минутах)?"
   ]
  },
  {
   "cell_type": "code",
   "execution_count": 9,
   "metadata": {
    "colab": {},
    "colab_type": "code",
    "id": "vHAoEXNTVp-d"
   },
   "outputs": [],
   "source": [
    "answers['2'] = '2. Gods and Generals (tt0279111)'"
   ]
  },
  {
   "cell_type": "code",
   "execution_count": 10,
   "metadata": {
    "colab": {},
    "colab_type": "code",
    "id": "ot-VX2XrVp-g"
   },
   "outputs": [
    {
     "data": {
      "text/html": [
       "<div>\n",
       "<style scoped>\n",
       "    .dataframe tbody tr th:only-of-type {\n",
       "        vertical-align: middle;\n",
       "    }\n",
       "\n",
       "    .dataframe tbody tr th {\n",
       "        vertical-align: top;\n",
       "    }\n",
       "\n",
       "    .dataframe thead th {\n",
       "        text-align: right;\n",
       "    }\n",
       "</style>\n",
       "<table border=\"1\" class=\"dataframe\">\n",
       "  <thead>\n",
       "    <tr style=\"text-align: right;\">\n",
       "      <th></th>\n",
       "      <th>imdb_id</th>\n",
       "      <th>budget</th>\n",
       "      <th>revenue</th>\n",
       "      <th>original_title</th>\n",
       "      <th>cast</th>\n",
       "      <th>director</th>\n",
       "      <th>tagline</th>\n",
       "      <th>overview</th>\n",
       "      <th>runtime</th>\n",
       "      <th>genres</th>\n",
       "      <th>production_companies</th>\n",
       "      <th>release_date</th>\n",
       "      <th>vote_average</th>\n",
       "      <th>release_year</th>\n",
       "      <th>profit</th>\n",
       "      <th>release_month</th>\n",
       "      <th>title_length</th>\n",
       "      <th>overview_length</th>\n",
       "    </tr>\n",
       "  </thead>\n",
       "  <tbody>\n",
       "    <tr>\n",
       "      <th>1157</th>\n",
       "      <td>tt0279111</td>\n",
       "      <td>56000000</td>\n",
       "      <td>12923936</td>\n",
       "      <td>Gods and Generals</td>\n",
       "      <td>[Stephen Lang, Jeff Daniels, Robert Duvall, Ke...</td>\n",
       "      <td>[Ronald F. Maxwell]</td>\n",
       "      <td>The nations heart was touched by...</td>\n",
       "      <td>The film centers mostly around the personal an...</td>\n",
       "      <td>214</td>\n",
       "      <td>[Drama, History, War]</td>\n",
       "      <td>[Turner Pictures, Antietam Filmworks]</td>\n",
       "      <td>2/21/2003</td>\n",
       "      <td>5.8</td>\n",
       "      <td>2003</td>\n",
       "      <td>-43076064</td>\n",
       "      <td>2</td>\n",
       "      <td>17</td>\n",
       "      <td>307</td>\n",
       "    </tr>\n",
       "  </tbody>\n",
       "</table>\n",
       "</div>"
      ],
      "text/plain": [
       "        imdb_id    budget   revenue     original_title  \\\n",
       "1157  tt0279111  56000000  12923936  Gods and Generals   \n",
       "\n",
       "                                                   cast             director  \\\n",
       "1157  [Stephen Lang, Jeff Daniels, Robert Duvall, Ke...  [Ronald F. Maxwell]   \n",
       "\n",
       "                                  tagline  \\\n",
       "1157  The nations heart was touched by...   \n",
       "\n",
       "                                               overview  runtime  \\\n",
       "1157  The film centers mostly around the personal an...      214   \n",
       "\n",
       "                     genres                   production_companies  \\\n",
       "1157  [Drama, History, War]  [Turner Pictures, Antietam Filmworks]   \n",
       "\n",
       "     release_date  vote_average  release_year    profit  release_month  \\\n",
       "1157    2/21/2003           5.8          2003 -43076064              2   \n",
       "\n",
       "      title_length  overview_length  \n",
       "1157            17              307  "
      ]
     },
     "execution_count": 10,
     "metadata": {},
     "output_type": "execute_result"
    }
   ],
   "source": [
    "data[ data.runtime==data.runtime.max() ]"
   ]
  },
  {
   "cell_type": "markdown",
   "metadata": {
    "colab_type": "text",
    "id": "bapLlpW8Vp-k"
   },
   "source": [
    "# 3. Какой из фильмов самый короткий (в минутах)?\n",
    "\n",
    "\n",
    "\n"
   ]
  },
  {
   "cell_type": "code",
   "execution_count": 11,
   "metadata": {
    "colab": {},
    "colab_type": "code",
    "id": "YBxaSHuAVp-l"
   },
   "outputs": [],
   "source": [
    "answers['3'] = '3. Winnie the Pooh (tt1449283)'"
   ]
  },
  {
   "cell_type": "code",
   "execution_count": 12,
   "metadata": {},
   "outputs": [
    {
     "data": {
      "text/html": [
       "<div>\n",
       "<style scoped>\n",
       "    .dataframe tbody tr th:only-of-type {\n",
       "        vertical-align: middle;\n",
       "    }\n",
       "\n",
       "    .dataframe tbody tr th {\n",
       "        vertical-align: top;\n",
       "    }\n",
       "\n",
       "    .dataframe thead th {\n",
       "        text-align: right;\n",
       "    }\n",
       "</style>\n",
       "<table border=\"1\" class=\"dataframe\">\n",
       "  <thead>\n",
       "    <tr style=\"text-align: right;\">\n",
       "      <th></th>\n",
       "      <th>imdb_id</th>\n",
       "      <th>budget</th>\n",
       "      <th>revenue</th>\n",
       "      <th>original_title</th>\n",
       "      <th>cast</th>\n",
       "      <th>director</th>\n",
       "      <th>tagline</th>\n",
       "      <th>overview</th>\n",
       "      <th>runtime</th>\n",
       "      <th>genres</th>\n",
       "      <th>production_companies</th>\n",
       "      <th>release_date</th>\n",
       "      <th>vote_average</th>\n",
       "      <th>release_year</th>\n",
       "      <th>profit</th>\n",
       "      <th>release_month</th>\n",
       "      <th>title_length</th>\n",
       "      <th>overview_length</th>\n",
       "    </tr>\n",
       "  </thead>\n",
       "  <tbody>\n",
       "    <tr>\n",
       "      <th>768</th>\n",
       "      <td>tt1449283</td>\n",
       "      <td>30000000</td>\n",
       "      <td>14460000</td>\n",
       "      <td>Winnie the Pooh</td>\n",
       "      <td>[Jim Cummings, Travis Oates, Jim Cummings, Bud...</td>\n",
       "      <td>[Stephen Anderson, Don Hall]</td>\n",
       "      <td>Oh Pooh.</td>\n",
       "      <td>During an ordinary day in Hundred Acre Wood, W...</td>\n",
       "      <td>63</td>\n",
       "      <td>[Animation, Family]</td>\n",
       "      <td>[Walt Disney Pictures, Walt Disney Animation S...</td>\n",
       "      <td>4/13/2011</td>\n",
       "      <td>6.8</td>\n",
       "      <td>2011</td>\n",
       "      <td>-15540000</td>\n",
       "      <td>4</td>\n",
       "      <td>15</td>\n",
       "      <td>305</td>\n",
       "    </tr>\n",
       "  </tbody>\n",
       "</table>\n",
       "</div>"
      ],
      "text/plain": [
       "       imdb_id    budget   revenue   original_title  \\\n",
       "768  tt1449283  30000000  14460000  Winnie the Pooh   \n",
       "\n",
       "                                                  cast  \\\n",
       "768  [Jim Cummings, Travis Oates, Jim Cummings, Bud...   \n",
       "\n",
       "                         director   tagline  \\\n",
       "768  [Stephen Anderson, Don Hall]  Oh Pooh.   \n",
       "\n",
       "                                              overview  runtime  \\\n",
       "768  During an ordinary day in Hundred Acre Wood, W...       63   \n",
       "\n",
       "                  genres                               production_companies  \\\n",
       "768  [Animation, Family]  [Walt Disney Pictures, Walt Disney Animation S...   \n",
       "\n",
       "    release_date  vote_average  release_year    profit  release_month  \\\n",
       "768    4/13/2011           6.8          2011 -15540000              4   \n",
       "\n",
       "     title_length  overview_length  \n",
       "768            15              305  "
      ]
     },
     "execution_count": 12,
     "metadata": {},
     "output_type": "execute_result"
    }
   ],
   "source": [
    "data[ data.runtime==data.runtime.min() ]"
   ]
  },
  {
   "cell_type": "markdown",
   "metadata": {
    "colab_type": "text",
    "id": "TfQbxbfNVp-p"
   },
   "source": [
    "# 4. Какова средняя длительность фильмов?\n"
   ]
  },
  {
   "cell_type": "code",
   "execution_count": 13,
   "metadata": {
    "colab": {},
    "colab_type": "code",
    "id": "5K6dKZYVVp-q"
   },
   "outputs": [],
   "source": [
    "answers['4'] = '2. 110'"
   ]
  },
  {
   "cell_type": "code",
   "execution_count": 14,
   "metadata": {},
   "outputs": [
    {
     "data": {
      "text/plain": [
       "109.6585494970884"
      ]
     },
     "execution_count": 14,
     "metadata": {},
     "output_type": "execute_result"
    }
   ],
   "source": [
    "data.runtime.mean()"
   ]
  },
  {
   "cell_type": "markdown",
   "metadata": {
    "colab_type": "text",
    "id": "r5TvbnT_Vp-u"
   },
   "source": [
    "# 5. Каково медианное значение длительности фильмов? "
   ]
  },
  {
   "cell_type": "code",
   "execution_count": 15,
   "metadata": {
    "colab": {},
    "colab_type": "code",
    "id": "iBROplKnVp-v"
   },
   "outputs": [],
   "source": [
    "answers['5'] = '1. 107'"
   ]
  },
  {
   "cell_type": "code",
   "execution_count": 16,
   "metadata": {},
   "outputs": [
    {
     "data": {
      "text/plain": [
       "107.0"
      ]
     },
     "execution_count": 16,
     "metadata": {},
     "output_type": "execute_result"
    }
   ],
   "source": [
    "data.runtime.median()"
   ]
  },
  {
   "cell_type": "markdown",
   "metadata": {
    "colab_type": "text",
    "id": "39P-deDSVp-y"
   },
   "source": [
    "# 6. Какой самый прибыльный фильм?\n",
    "#### Внимание! Здесь и далее под «прибылью» или «убытками» понимается разность между сборами и бюджетом фильма. (прибыль = сборы - бюджет) в нашем датасете это будет (profit = revenue - budget) "
   ]
  },
  {
   "cell_type": "code",
   "execution_count": 17,
   "metadata": {
    "colab": {},
    "colab_type": "code",
    "id": "UYZh4T9WVp-y"
   },
   "outputs": [],
   "source": [
    "answers['6'] = '5. Avatar (tt0499549)'"
   ]
  },
  {
   "cell_type": "code",
   "execution_count": 18,
   "metadata": {},
   "outputs": [
    {
     "data": {
      "text/html": [
       "<div>\n",
       "<style scoped>\n",
       "    .dataframe tbody tr th:only-of-type {\n",
       "        vertical-align: middle;\n",
       "    }\n",
       "\n",
       "    .dataframe tbody tr th {\n",
       "        vertical-align: top;\n",
       "    }\n",
       "\n",
       "    .dataframe thead th {\n",
       "        text-align: right;\n",
       "    }\n",
       "</style>\n",
       "<table border=\"1\" class=\"dataframe\">\n",
       "  <thead>\n",
       "    <tr style=\"text-align: right;\">\n",
       "      <th></th>\n",
       "      <th>imdb_id</th>\n",
       "      <th>budget</th>\n",
       "      <th>revenue</th>\n",
       "      <th>original_title</th>\n",
       "      <th>cast</th>\n",
       "      <th>director</th>\n",
       "      <th>tagline</th>\n",
       "      <th>overview</th>\n",
       "      <th>runtime</th>\n",
       "      <th>genres</th>\n",
       "      <th>production_companies</th>\n",
       "      <th>release_date</th>\n",
       "      <th>vote_average</th>\n",
       "      <th>release_year</th>\n",
       "      <th>profit</th>\n",
       "      <th>release_month</th>\n",
       "      <th>title_length</th>\n",
       "      <th>overview_length</th>\n",
       "    </tr>\n",
       "  </thead>\n",
       "  <tbody>\n",
       "    <tr>\n",
       "      <th>239</th>\n",
       "      <td>tt0499549</td>\n",
       "      <td>237000000</td>\n",
       "      <td>2781505847</td>\n",
       "      <td>Avatar</td>\n",
       "      <td>[Sam Worthington, Zoe Saldana, Sigourney Weave...</td>\n",
       "      <td>[James Cameron]</td>\n",
       "      <td>Enter the World of Pandora.</td>\n",
       "      <td>In the 22nd century, a paraplegic Marine is di...</td>\n",
       "      <td>162</td>\n",
       "      <td>[Action, Adventure, Fantasy, Science Fiction]</td>\n",
       "      <td>[Ingenious Film Partners, Twentieth Century Fo...</td>\n",
       "      <td>12/10/2009</td>\n",
       "      <td>7.1</td>\n",
       "      <td>2009</td>\n",
       "      <td>2544505847</td>\n",
       "      <td>12</td>\n",
       "      <td>6</td>\n",
       "      <td>175</td>\n",
       "    </tr>\n",
       "  </tbody>\n",
       "</table>\n",
       "</div>"
      ],
      "text/plain": [
       "       imdb_id     budget     revenue original_title  \\\n",
       "239  tt0499549  237000000  2781505847         Avatar   \n",
       "\n",
       "                                                  cast         director  \\\n",
       "239  [Sam Worthington, Zoe Saldana, Sigourney Weave...  [James Cameron]   \n",
       "\n",
       "                         tagline  \\\n",
       "239  Enter the World of Pandora.   \n",
       "\n",
       "                                              overview  runtime  \\\n",
       "239  In the 22nd century, a paraplegic Marine is di...      162   \n",
       "\n",
       "                                            genres  \\\n",
       "239  [Action, Adventure, Fantasy, Science Fiction]   \n",
       "\n",
       "                                  production_companies release_date  \\\n",
       "239  [Ingenious Film Partners, Twentieth Century Fo...   12/10/2009   \n",
       "\n",
       "     vote_average  release_year      profit  release_month  title_length  \\\n",
       "239           7.1          2009  2544505847             12             6   \n",
       "\n",
       "     overview_length  \n",
       "239              175  "
      ]
     },
     "execution_count": 18,
     "metadata": {},
     "output_type": "execute_result"
    }
   ],
   "source": [
    "data[ data.profit==data.profit.max() ]"
   ]
  },
  {
   "cell_type": "markdown",
   "metadata": {
    "colab_type": "text",
    "id": "M99JmIX4Vp-2"
   },
   "source": [
    "# 7. Какой фильм самый убыточный? "
   ]
  },
  {
   "cell_type": "code",
   "execution_count": 19,
   "metadata": {},
   "outputs": [],
   "source": [
    "answers['7'] = '5. The Lone Ranger (tt1210819)'"
   ]
  },
  {
   "cell_type": "code",
   "execution_count": 20,
   "metadata": {
    "colab": {},
    "colab_type": "code",
    "id": "w-D2m4XPVp-3"
   },
   "outputs": [
    {
     "data": {
      "text/html": [
       "<div>\n",
       "<style scoped>\n",
       "    .dataframe tbody tr th:only-of-type {\n",
       "        vertical-align: middle;\n",
       "    }\n",
       "\n",
       "    .dataframe tbody tr th {\n",
       "        vertical-align: top;\n",
       "    }\n",
       "\n",
       "    .dataframe thead th {\n",
       "        text-align: right;\n",
       "    }\n",
       "</style>\n",
       "<table border=\"1\" class=\"dataframe\">\n",
       "  <thead>\n",
       "    <tr style=\"text-align: right;\">\n",
       "      <th></th>\n",
       "      <th>imdb_id</th>\n",
       "      <th>budget</th>\n",
       "      <th>revenue</th>\n",
       "      <th>original_title</th>\n",
       "      <th>cast</th>\n",
       "      <th>director</th>\n",
       "      <th>tagline</th>\n",
       "      <th>overview</th>\n",
       "      <th>runtime</th>\n",
       "      <th>genres</th>\n",
       "      <th>production_companies</th>\n",
       "      <th>release_date</th>\n",
       "      <th>vote_average</th>\n",
       "      <th>release_year</th>\n",
       "      <th>profit</th>\n",
       "      <th>release_month</th>\n",
       "      <th>title_length</th>\n",
       "      <th>overview_length</th>\n",
       "    </tr>\n",
       "  </thead>\n",
       "  <tbody>\n",
       "    <tr>\n",
       "      <th>1245</th>\n",
       "      <td>tt1210819</td>\n",
       "      <td>255000000</td>\n",
       "      <td>89289910</td>\n",
       "      <td>The Lone Ranger</td>\n",
       "      <td>[Johnny Depp, Armie Hammer, William Fichtner, ...</td>\n",
       "      <td>[Gore Verbinski]</td>\n",
       "      <td>Never Take Off the Mask</td>\n",
       "      <td>The Texas Rangers chase down a gang of outlaws...</td>\n",
       "      <td>149</td>\n",
       "      <td>[Action, Adventure, Western]</td>\n",
       "      <td>[Walt Disney Pictures, Jerry Bruckheimer Films...</td>\n",
       "      <td>7/3/2013</td>\n",
       "      <td>6.0</td>\n",
       "      <td>2013</td>\n",
       "      <td>-165710090</td>\n",
       "      <td>7</td>\n",
       "      <td>15</td>\n",
       "      <td>386</td>\n",
       "    </tr>\n",
       "  </tbody>\n",
       "</table>\n",
       "</div>"
      ],
      "text/plain": [
       "        imdb_id     budget   revenue   original_title  \\\n",
       "1245  tt1210819  255000000  89289910  The Lone Ranger   \n",
       "\n",
       "                                                   cast          director  \\\n",
       "1245  [Johnny Depp, Armie Hammer, William Fichtner, ...  [Gore Verbinski]   \n",
       "\n",
       "                      tagline  \\\n",
       "1245  Never Take Off the Mask   \n",
       "\n",
       "                                               overview  runtime  \\\n",
       "1245  The Texas Rangers chase down a gang of outlaws...      149   \n",
       "\n",
       "                            genres  \\\n",
       "1245  [Action, Adventure, Western]   \n",
       "\n",
       "                                   production_companies release_date  \\\n",
       "1245  [Walt Disney Pictures, Jerry Bruckheimer Films...     7/3/2013   \n",
       "\n",
       "      vote_average  release_year     profit  release_month  title_length  \\\n",
       "1245           6.0          2013 -165710090              7            15   \n",
       "\n",
       "      overview_length  \n",
       "1245              386  "
      ]
     },
     "execution_count": 20,
     "metadata": {},
     "output_type": "execute_result"
    }
   ],
   "source": [
    "data[ data.profit==data.profit.min() ]"
   ]
  },
  {
   "cell_type": "markdown",
   "metadata": {
    "colab_type": "text",
    "id": "wEOM5ERVVp-6"
   },
   "source": [
    "# 8. У скольких фильмов из датасета объем сборов оказался выше бюджета?"
   ]
  },
  {
   "cell_type": "code",
   "execution_count": 21,
   "metadata": {},
   "outputs": [],
   "source": [
    "answers['8'] = '1. 1478'"
   ]
  },
  {
   "cell_type": "code",
   "execution_count": 22,
   "metadata": {
    "colab": {},
    "colab_type": "code",
    "id": "y00_7HD6Vp-7"
   },
   "outputs": [
    {
     "data": {
      "text/plain": [
       "1478"
      ]
     },
     "execution_count": 22,
     "metadata": {},
     "output_type": "execute_result"
    }
   ],
   "source": [
    "len(data[ data.revenue>data.budget ].index)"
   ]
  },
  {
   "cell_type": "markdown",
   "metadata": {
    "colab_type": "text",
    "id": "xhpspA9KVp_A"
   },
   "source": [
    "# 9. Какой фильм оказался самым кассовым в 2008 году?"
   ]
  },
  {
   "cell_type": "code",
   "execution_count": 23,
   "metadata": {},
   "outputs": [],
   "source": [
    "answers['9'] = '4. The Dark Knight (tt0468569)'"
   ]
  },
  {
   "cell_type": "code",
   "execution_count": 24,
   "metadata": {
    "colab": {},
    "colab_type": "code",
    "id": "MoUyQr9RVp_B"
   },
   "outputs": [
    {
     "data": {
      "text/html": [
       "<div>\n",
       "<style scoped>\n",
       "    .dataframe tbody tr th:only-of-type {\n",
       "        vertical-align: middle;\n",
       "    }\n",
       "\n",
       "    .dataframe tbody tr th {\n",
       "        vertical-align: top;\n",
       "    }\n",
       "\n",
       "    .dataframe thead th {\n",
       "        text-align: right;\n",
       "    }\n",
       "</style>\n",
       "<table border=\"1\" class=\"dataframe\">\n",
       "  <thead>\n",
       "    <tr style=\"text-align: right;\">\n",
       "      <th></th>\n",
       "      <th>imdb_id</th>\n",
       "      <th>budget</th>\n",
       "      <th>revenue</th>\n",
       "      <th>original_title</th>\n",
       "      <th>cast</th>\n",
       "      <th>director</th>\n",
       "      <th>tagline</th>\n",
       "      <th>overview</th>\n",
       "      <th>runtime</th>\n",
       "      <th>genres</th>\n",
       "      <th>production_companies</th>\n",
       "      <th>release_date</th>\n",
       "      <th>vote_average</th>\n",
       "      <th>release_year</th>\n",
       "      <th>profit</th>\n",
       "      <th>release_month</th>\n",
       "      <th>title_length</th>\n",
       "      <th>overview_length</th>\n",
       "    </tr>\n",
       "  </thead>\n",
       "  <tbody>\n",
       "    <tr>\n",
       "      <th>599</th>\n",
       "      <td>tt0468569</td>\n",
       "      <td>185000000</td>\n",
       "      <td>1001921825</td>\n",
       "      <td>The Dark Knight</td>\n",
       "      <td>[Christian Bale, Michael Caine, Heath Ledger, ...</td>\n",
       "      <td>[Christopher Nolan]</td>\n",
       "      <td>Why So Serious?</td>\n",
       "      <td>Batman raises the stakes in his war on crime. ...</td>\n",
       "      <td>152</td>\n",
       "      <td>[Drama, Action, Crime, Thriller]</td>\n",
       "      <td>[DC Comics, Legendary Pictures, Warner Bros., ...</td>\n",
       "      <td>7/16/2008</td>\n",
       "      <td>8.1</td>\n",
       "      <td>2008</td>\n",
       "      <td>816921825</td>\n",
       "      <td>7</td>\n",
       "      <td>15</td>\n",
       "      <td>396</td>\n",
       "    </tr>\n",
       "  </tbody>\n",
       "</table>\n",
       "</div>"
      ],
      "text/plain": [
       "       imdb_id     budget     revenue   original_title  \\\n",
       "599  tt0468569  185000000  1001921825  The Dark Knight   \n",
       "\n",
       "                                                  cast             director  \\\n",
       "599  [Christian Bale, Michael Caine, Heath Ledger, ...  [Christopher Nolan]   \n",
       "\n",
       "             tagline                                           overview  \\\n",
       "599  Why So Serious?  Batman raises the stakes in his war on crime. ...   \n",
       "\n",
       "     runtime                            genres  \\\n",
       "599      152  [Drama, Action, Crime, Thriller]   \n",
       "\n",
       "                                  production_companies release_date  \\\n",
       "599  [DC Comics, Legendary Pictures, Warner Bros., ...    7/16/2008   \n",
       "\n",
       "     vote_average  release_year     profit  release_month  title_length  \\\n",
       "599           8.1          2008  816921825              7            15   \n",
       "\n",
       "     overview_length  \n",
       "599              396  "
      ]
     },
     "execution_count": 24,
     "metadata": {},
     "output_type": "execute_result"
    }
   ],
   "source": [
    "# вариант 1\n",
    "# вычисляем max revenue  для фильмов 2008, находим фильм(/мы) 2008 года с этим revenue\n",
    "max_revenue_2008 = data[ (data.release_year==2008) ].revenue.max()\n",
    "data[ (data.release_year==2008) & (data.revenue==max_revenue_2008) ]"
   ]
  },
  {
   "cell_type": "code",
   "execution_count": 25,
   "metadata": {},
   "outputs": [
    {
     "data": {
      "text/html": [
       "<div>\n",
       "<style scoped>\n",
       "    .dataframe tbody tr th:only-of-type {\n",
       "        vertical-align: middle;\n",
       "    }\n",
       "\n",
       "    .dataframe tbody tr th {\n",
       "        vertical-align: top;\n",
       "    }\n",
       "\n",
       "    .dataframe thead th {\n",
       "        text-align: right;\n",
       "    }\n",
       "</style>\n",
       "<table border=\"1\" class=\"dataframe\">\n",
       "  <thead>\n",
       "    <tr style=\"text-align: right;\">\n",
       "      <th></th>\n",
       "      <th>imdb_id</th>\n",
       "      <th>budget</th>\n",
       "      <th>revenue</th>\n",
       "      <th>original_title</th>\n",
       "      <th>cast</th>\n",
       "      <th>director</th>\n",
       "      <th>tagline</th>\n",
       "      <th>overview</th>\n",
       "      <th>runtime</th>\n",
       "      <th>genres</th>\n",
       "      <th>production_companies</th>\n",
       "      <th>release_date</th>\n",
       "      <th>vote_average</th>\n",
       "      <th>release_year</th>\n",
       "      <th>profit</th>\n",
       "      <th>release_month</th>\n",
       "      <th>title_length</th>\n",
       "      <th>overview_length</th>\n",
       "    </tr>\n",
       "  </thead>\n",
       "  <tbody>\n",
       "    <tr>\n",
       "      <th>599</th>\n",
       "      <td>tt0468569</td>\n",
       "      <td>185000000</td>\n",
       "      <td>1001921825</td>\n",
       "      <td>The Dark Knight</td>\n",
       "      <td>[Christian Bale, Michael Caine, Heath Ledger, ...</td>\n",
       "      <td>[Christopher Nolan]</td>\n",
       "      <td>Why So Serious?</td>\n",
       "      <td>Batman raises the stakes in his war on crime. ...</td>\n",
       "      <td>152</td>\n",
       "      <td>[Drama, Action, Crime, Thriller]</td>\n",
       "      <td>[DC Comics, Legendary Pictures, Warner Bros., ...</td>\n",
       "      <td>7/16/2008</td>\n",
       "      <td>8.1</td>\n",
       "      <td>2008</td>\n",
       "      <td>816921825</td>\n",
       "      <td>7</td>\n",
       "      <td>15</td>\n",
       "      <td>396</td>\n",
       "    </tr>\n",
       "  </tbody>\n",
       "</table>\n",
       "</div>"
      ],
      "text/plain": [
       "       imdb_id     budget     revenue   original_title  \\\n",
       "599  tt0468569  185000000  1001921825  The Dark Knight   \n",
       "\n",
       "                                                  cast             director  \\\n",
       "599  [Christian Bale, Michael Caine, Heath Ledger, ...  [Christopher Nolan]   \n",
       "\n",
       "             tagline                                           overview  \\\n",
       "599  Why So Serious?  Batman raises the stakes in his war on crime. ...   \n",
       "\n",
       "     runtime                            genres  \\\n",
       "599      152  [Drama, Action, Crime, Thriller]   \n",
       "\n",
       "                                  production_companies release_date  \\\n",
       "599  [DC Comics, Legendary Pictures, Warner Bros., ...    7/16/2008   \n",
       "\n",
       "     vote_average  release_year     profit  release_month  title_length  \\\n",
       "599           8.1          2008  816921825              7            15   \n",
       "\n",
       "     overview_length  \n",
       "599              396  "
      ]
     },
     "execution_count": 25,
     "metadata": {},
     "output_type": "execute_result"
    }
   ],
   "source": [
    "# вариант 2\n",
    "# выбираем фильмы 2008 года и сортируем по столбцу revenue, берём верхнюю строчку\n",
    "data[ (data.release_year==2008) ].sort_values(by='revenue', ascending=False).head(1)"
   ]
  },
  {
   "cell_type": "markdown",
   "metadata": {
    "colab_type": "text",
    "id": "Zi4hDKidVp_F"
   },
   "source": [
    "# 10. Самый убыточный фильм за период с 2012 по 2014 г. (включительно)?\n"
   ]
  },
  {
   "cell_type": "code",
   "execution_count": 26,
   "metadata": {},
   "outputs": [],
   "source": [
    "answers['10'] = '5. The Lone Ranger (tt1210819)'"
   ]
  },
  {
   "cell_type": "code",
   "execution_count": 27,
   "metadata": {
    "colab": {},
    "colab_type": "code",
    "id": "XqyRmufJVp_F"
   },
   "outputs": [
    {
     "data": {
      "text/html": [
       "<div>\n",
       "<style scoped>\n",
       "    .dataframe tbody tr th:only-of-type {\n",
       "        vertical-align: middle;\n",
       "    }\n",
       "\n",
       "    .dataframe tbody tr th {\n",
       "        vertical-align: top;\n",
       "    }\n",
       "\n",
       "    .dataframe thead th {\n",
       "        text-align: right;\n",
       "    }\n",
       "</style>\n",
       "<table border=\"1\" class=\"dataframe\">\n",
       "  <thead>\n",
       "    <tr style=\"text-align: right;\">\n",
       "      <th></th>\n",
       "      <th>imdb_id</th>\n",
       "      <th>budget</th>\n",
       "      <th>revenue</th>\n",
       "      <th>original_title</th>\n",
       "      <th>cast</th>\n",
       "      <th>director</th>\n",
       "      <th>tagline</th>\n",
       "      <th>overview</th>\n",
       "      <th>runtime</th>\n",
       "      <th>genres</th>\n",
       "      <th>production_companies</th>\n",
       "      <th>release_date</th>\n",
       "      <th>vote_average</th>\n",
       "      <th>release_year</th>\n",
       "      <th>profit</th>\n",
       "      <th>release_month</th>\n",
       "      <th>title_length</th>\n",
       "      <th>overview_length</th>\n",
       "    </tr>\n",
       "  </thead>\n",
       "  <tbody>\n",
       "    <tr>\n",
       "      <th>1245</th>\n",
       "      <td>tt1210819</td>\n",
       "      <td>255000000</td>\n",
       "      <td>89289910</td>\n",
       "      <td>The Lone Ranger</td>\n",
       "      <td>[Johnny Depp, Armie Hammer, William Fichtner, ...</td>\n",
       "      <td>[Gore Verbinski]</td>\n",
       "      <td>Never Take Off the Mask</td>\n",
       "      <td>The Texas Rangers chase down a gang of outlaws...</td>\n",
       "      <td>149</td>\n",
       "      <td>[Action, Adventure, Western]</td>\n",
       "      <td>[Walt Disney Pictures, Jerry Bruckheimer Films...</td>\n",
       "      <td>7/3/2013</td>\n",
       "      <td>6.0</td>\n",
       "      <td>2013</td>\n",
       "      <td>-165710090</td>\n",
       "      <td>7</td>\n",
       "      <td>15</td>\n",
       "      <td>386</td>\n",
       "    </tr>\n",
       "  </tbody>\n",
       "</table>\n",
       "</div>"
      ],
      "text/plain": [
       "        imdb_id     budget   revenue   original_title  \\\n",
       "1245  tt1210819  255000000  89289910  The Lone Ranger   \n",
       "\n",
       "                                                   cast          director  \\\n",
       "1245  [Johnny Depp, Armie Hammer, William Fichtner, ...  [Gore Verbinski]   \n",
       "\n",
       "                      tagline  \\\n",
       "1245  Never Take Off the Mask   \n",
       "\n",
       "                                               overview  runtime  \\\n",
       "1245  The Texas Rangers chase down a gang of outlaws...      149   \n",
       "\n",
       "                            genres  \\\n",
       "1245  [Action, Adventure, Western]   \n",
       "\n",
       "                                   production_companies release_date  \\\n",
       "1245  [Walt Disney Pictures, Jerry Bruckheimer Films...     7/3/2013   \n",
       "\n",
       "      vote_average  release_year     profit  release_month  title_length  \\\n",
       "1245           6.0          2013 -165710090              7            15   \n",
       "\n",
       "      overview_length  \n",
       "1245              386  "
      ]
     },
     "execution_count": 27,
     "metadata": {},
     "output_type": "execute_result"
    }
   ],
   "source": [
    "# для фильтрации используем query\n",
    "data.query('2012<release_year<=2014').sort_values(by='profit').head(1)"
   ]
  },
  {
   "cell_type": "markdown",
   "metadata": {
    "colab_type": "text",
    "id": "EA7Sa9dkVp_I"
   },
   "source": [
    "# 11. Какого жанра фильмов больше всего?"
   ]
  },
  {
   "cell_type": "code",
   "execution_count": 28,
   "metadata": {},
   "outputs": [],
   "source": [
    "answers['11'] = '3. Drama'"
   ]
  },
  {
   "cell_type": "code",
   "execution_count": 29,
   "metadata": {
    "colab": {},
    "colab_type": "code",
    "id": "zsJAwJ8QVp_J"
   },
   "outputs": [
    {
     "data": {
      "text/plain": [
       "'Drama'"
      ]
     },
     "execution_count": 29,
     "metadata": {},
     "output_type": "execute_result"
    }
   ],
   "source": [
    "# просто разверём списки жанров и посчитаем каждый\n",
    "# варант без explode попробуем на задании 14\n",
    "data.explode('genres')['genres'].value_counts().head(1).index[0]"
   ]
  },
  {
   "cell_type": "markdown",
   "metadata": {
    "colab_type": "text",
    "id": "T9_bPWpkVp_Q"
   },
   "source": [
    "# 12. Фильмы какого жанра чаще всего становятся прибыльными? "
   ]
  },
  {
   "cell_type": "code",
   "execution_count": 30,
   "metadata": {},
   "outputs": [],
   "source": [
    "answers['12'] = '1. Drama'"
   ]
  },
  {
   "cell_type": "code",
   "execution_count": 31,
   "metadata": {
    "colab": {},
    "colab_type": "code",
    "id": "Tmt8MaK1Vp_R"
   },
   "outputs": [
    {
     "data": {
      "text/plain": [
       "'Drama'"
      ]
     },
     "execution_count": 31,
     "metadata": {},
     "output_type": "execute_result"
    }
   ],
   "source": [
    "# тоже самое но отфильтруем прибыльные фильмы\n",
    "data[ data.profit > 0 ].explode('genres')['genres'].value_counts().head(1).index[0]"
   ]
  },
  {
   "cell_type": "markdown",
   "metadata": {
    "colab_type": "text",
    "id": "0F23bgsDVp_U"
   },
   "source": [
    "# 13. У какого режиссера самые большие суммарные кассовые сборы?"
   ]
  },
  {
   "cell_type": "code",
   "execution_count": 32,
   "metadata": {},
   "outputs": [],
   "source": [
    "answers['13'] = '5. Peter Jackson'"
   ]
  },
  {
   "cell_type": "code",
   "execution_count": 33,
   "metadata": {
    "colab": {},
    "colab_type": "code",
    "id": "K6Z3J8ygVp_X"
   },
   "outputs": [
    {
     "data": {
      "text/html": [
       "<div>\n",
       "<style scoped>\n",
       "    .dataframe tbody tr th:only-of-type {\n",
       "        vertical-align: middle;\n",
       "    }\n",
       "\n",
       "    .dataframe tbody tr th {\n",
       "        vertical-align: top;\n",
       "    }\n",
       "\n",
       "    .dataframe thead th {\n",
       "        text-align: right;\n",
       "    }\n",
       "</style>\n",
       "<table border=\"1\" class=\"dataframe\">\n",
       "  <thead>\n",
       "    <tr style=\"text-align: right;\">\n",
       "      <th></th>\n",
       "      <th>revenue</th>\n",
       "    </tr>\n",
       "    <tr>\n",
       "      <th>director</th>\n",
       "      <th></th>\n",
       "    </tr>\n",
       "  </thead>\n",
       "  <tbody>\n",
       "    <tr>\n",
       "      <th>Peter Jackson</th>\n",
       "      <td>6490593685</td>\n",
       "    </tr>\n",
       "  </tbody>\n",
       "</table>\n",
       "</div>"
      ],
      "text/plain": [
       "                  revenue\n",
       "director                 \n",
       "Peter Jackson  6490593685"
      ]
     },
     "execution_count": 33,
     "metadata": {},
     "output_type": "execute_result"
    }
   ],
   "source": [
    "# data[['director','revenue']] - выбираем нужные колонки чтобы не занимать много памяти (хотя тут не очень актуально)\n",
    "# .explode('director') - разворачиваем списки директоров\n",
    "# .groupby(['director']).sum() - группировка по directors, суммируем\n",
    "# .sort_values(by='revenue', ascending=False).head(1) - сортировка по сборам от большего, и берём первый\n",
    "# можно всё это в одну строчку по PEP 8\n",
    "\n",
    "data[['director','revenue']] \\\n",
    "    .explode('director') \\\n",
    "    .groupby('director').sum() \\\n",
    "    .sort_values(by='revenue', ascending=False).head(1)"
   ]
  },
  {
   "cell_type": "markdown",
   "metadata": {
    "colab_type": "text",
    "id": "PsYC9FgRVp_a"
   },
   "source": [
    "# 14. Какой режисер снял больше всего фильмов в стиле Action?"
   ]
  },
  {
   "cell_type": "code",
   "execution_count": 34,
   "metadata": {},
   "outputs": [],
   "source": [
    "answers['14'] = '3. Robert Rodriguez'"
   ]
  },
  {
   "cell_type": "code",
   "execution_count": 35,
   "metadata": {
    "colab": {},
    "colab_type": "code",
    "id": "wd2M-wHeVp_b"
   },
   "outputs": [
    {
     "data": {
      "text/plain": [
       "Robert Rodriguez    9\n",
       "Name: director, dtype: int64"
      ]
     },
     "execution_count": 35,
     "metadata": {},
     "output_type": "execute_result"
    }
   ],
   "source": [
    "# Вариант 1\n",
    "# жанр отфильтруем по маске где Action содержится в списке genres\n",
    "# Далее разворачиваем по director и считаем количество каждого\n",
    "mask_action = data.genres.apply(lambda x: 'Action' in x)\n",
    "data[mask_action].explode('director')['director'].value_counts().head(1)"
   ]
  },
  {
   "cell_type": "code",
   "execution_count": 36,
   "metadata": {},
   "outputs": [
    {
     "data": {
      "text/plain": [
       "[('Robert Rodriguez', 9)]"
      ]
     },
     "execution_count": 36,
     "metadata": {},
     "output_type": "execute_result"
    }
   ],
   "source": [
    "# Вариант 2\n",
    "# посчитаем режиссёров отдельным счётчиком task_14_c без использования explode()\n",
    "# фильтруем также маской\n",
    "mask_action = data.genres.apply(lambda x: 'Action' in x)\n",
    "task_14_df = data[mask_action]\n",
    "task_14_c = Counter()\n",
    "\n",
    "def count_directors(directors):\n",
    "    #передаём внутрь глабальный счётчик\n",
    "    global task_14_c\n",
    "    for director in directors:\n",
    "        task_14_c[director]+=1\n",
    "\n",
    "# перебор по вспомогательному df сделаем с помощью apply\n",
    "task_14_df.director.apply(count_directors)\n",
    "\n",
    "# больше всего у кого?\n",
    "task_14_c.most_common(1)"
   ]
  },
  {
   "cell_type": "markdown",
   "metadata": {
    "colab_type": "text",
    "id": "PQ0KciD7Vp_f"
   },
   "source": [
    "# 15. Фильмы с каким актером принесли самые высокие кассовые сборы в 2012 году? "
   ]
  },
  {
   "cell_type": "code",
   "execution_count": 37,
   "metadata": {},
   "outputs": [],
   "source": [
    "answers['15'] = '3. Chris Hemsworth'"
   ]
  },
  {
   "cell_type": "code",
   "execution_count": 38,
   "metadata": {
    "colab": {},
    "colab_type": "code",
    "id": "aga62oeKVp_g"
   },
   "outputs": [
    {
     "data": {
      "text/plain": [
       "'Chris Hemsworth'"
      ]
     },
     "execution_count": 38,
     "metadata": {},
     "output_type": "execute_result"
    }
   ],
   "source": [
    "# data[data.release_year==2012] - фильмы 2012 года\n",
    "# .explode('cast') - разворачиваем списки актёров\n",
    "# .groupby(['cast']).sum() - группировка по актёрам, суммируем\n",
    "# .sort_values(by='revenue', ascending=False).head(1) - сортировка по сборам, и берём первый\n",
    "# всё это в одну строчку по PEP 8\n",
    "\n",
    "data[ data.release_year==2012 ] \\\n",
    "    .explode('cast') \\\n",
    "    .groupby('cast').sum() \\\n",
    "    .sort_values(by='revenue', ascending=False).head(1).index[0]"
   ]
  },
  {
   "cell_type": "markdown",
   "metadata": {
    "colab_type": "text",
    "id": "mWHyyL7QVp_j"
   },
   "source": [
    "# 16. Какой актер снялся в большем количестве высокобюджетных фильмов?"
   ]
  },
  {
   "cell_type": "code",
   "execution_count": 39,
   "metadata": {},
   "outputs": [],
   "source": [
    "answers['16'] = '3. Matt Damon'"
   ]
  },
  {
   "cell_type": "code",
   "execution_count": 40,
   "metadata": {
    "colab": {},
    "colab_type": "code",
    "id": "qQtmHKTFVp_k"
   },
   "outputs": [
    {
     "data": {
      "text/plain": [
       "'Matt Damon'"
      ]
     },
     "execution_count": 40,
     "metadata": {},
     "output_type": "execute_result"
    }
   ],
   "source": [
    "# похоже на задания 11 и 12 только с фильтром по бюджету и считаем актёров\n",
    "data[ data.budget>data.budget.mean() ] \\\n",
    "    .explode('cast')['cast'].value_counts().head(1).index[0]"
   ]
  },
  {
   "cell_type": "markdown",
   "metadata": {
    "colab_type": "text",
    "id": "NIh6AaW5Vp_n"
   },
   "source": [
    "# 17. В фильмах какого жанра больше всего снимался Nicolas Cage? "
   ]
  },
  {
   "cell_type": "code",
   "execution_count": 41,
   "metadata": {},
   "outputs": [],
   "source": [
    "answers['17'] = '2. Action'"
   ]
  },
  {
   "cell_type": "code",
   "execution_count": 42,
   "metadata": {
    "colab": {},
    "colab_type": "code",
    "id": "H74SJDIBVp_n"
   },
   "outputs": [
    {
     "data": {
      "text/plain": [
       "'Action'"
      ]
     },
     "execution_count": 42,
     "metadata": {},
     "output_type": "execute_result"
    }
   ],
   "source": [
    "# Вариант 1\n",
    "# фильмы с Колей фильструем по маске\n",
    "\n",
    "mask_Cage = data.cast.apply(lambda x: 'Nicolas Cage' in x)\n",
    "task_17_1_df = data[mask_Cage]\n",
    "task_17_1_df.explode('genres')['genres'].value_counts().head(1).index[0]"
   ]
  },
  {
   "cell_type": "code",
   "execution_count": 43,
   "metadata": {},
   "outputs": [
    {
     "data": {
      "text/plain": [
       "'Action'"
      ]
     },
     "execution_count": 43,
     "metadata": {},
     "output_type": "execute_result"
    }
   ],
   "source": [
    "# Вариант 2\n",
    "# фильтруем через вспомогательных df\n",
    "# pd.DataFrame(df.species.tolist()).isin(selection).any(1).values\n",
    "# подойдёт если нужно отобрать содержание нескольких элементов\n",
    "\n",
    "task_17_2_df = data[pd.DataFrame(data.cast.tolist()).isin(['Nicolas Cage']).any(1).values]\n",
    "task_17_2_df.explode('genres')['genres'].value_counts().head(1).index[0]"
   ]
  },
  {
   "cell_type": "markdown",
   "metadata": {
    "colab_type": "text",
    "id": "RqOmPRfWVp_q"
   },
   "source": [
    "# 18. Самый убыточный фильм от Paramount Pictures"
   ]
  },
  {
   "cell_type": "code",
   "execution_count": 44,
   "metadata": {},
   "outputs": [],
   "source": [
    "answers['18'] = '1. K-19: The Widowmaker (tt0267626)'"
   ]
  },
  {
   "cell_type": "code",
   "execution_count": 45,
   "metadata": {
    "colab": {},
    "colab_type": "code",
    "id": "9E_B0Y96Vp_r"
   },
   "outputs": [
    {
     "data": {
      "text/html": [
       "<div>\n",
       "<style scoped>\n",
       "    .dataframe tbody tr th:only-of-type {\n",
       "        vertical-align: middle;\n",
       "    }\n",
       "\n",
       "    .dataframe tbody tr th {\n",
       "        vertical-align: top;\n",
       "    }\n",
       "\n",
       "    .dataframe thead th {\n",
       "        text-align: right;\n",
       "    }\n",
       "</style>\n",
       "<table border=\"1\" class=\"dataframe\">\n",
       "  <thead>\n",
       "    <tr style=\"text-align: right;\">\n",
       "      <th></th>\n",
       "      <th>original_title</th>\n",
       "      <th>imdb_id</th>\n",
       "    </tr>\n",
       "  </thead>\n",
       "  <tbody>\n",
       "    <tr>\n",
       "      <th>925</th>\n",
       "      <td>K-19: The Widowmaker</td>\n",
       "      <td>tt0267626</td>\n",
       "    </tr>\n",
       "  </tbody>\n",
       "</table>\n",
       "</div>"
      ],
      "text/plain": [
       "           original_title    imdb_id\n",
       "925  K-19: The Widowmaker  tt0267626"
      ]
     },
     "execution_count": 45,
     "metadata": {},
     "output_type": "execute_result"
    }
   ],
   "source": [
    "# отфильтруем просто развернув и выполнив query\n",
    "task_18_df = data.explode('production_companies').query( 'production_companies==\"Paramount Pictures\"' )\n",
    "\n",
    "# берём с минимальным профитом по этому dataFrame\n",
    "task_18_df[ task_18_df.profit==task_18_df.profit.min() ][['original_title','imdb_id']]"
   ]
  },
  {
   "cell_type": "markdown",
   "metadata": {
    "colab_type": "text",
    "id": "vS8Ur6ddVp_u"
   },
   "source": [
    "# 19. Какой год стал самым успешным по суммарным кассовым сборам?"
   ]
  },
  {
   "cell_type": "code",
   "execution_count": 46,
   "metadata": {},
   "outputs": [],
   "source": [
    "answers['19'] = '5. 2015'"
   ]
  },
  {
   "cell_type": "code",
   "execution_count": 47,
   "metadata": {
    "colab": {},
    "colab_type": "code",
    "id": "Dnbt4GdIVp_v"
   },
   "outputs": [
    {
     "data": {
      "text/plain": [
       "release_year\n",
       "2015    25449202382\n",
       "Name: revenue, dtype: int64"
      ]
     },
     "execution_count": 47,
     "metadata": {},
     "output_type": "execute_result"
    }
   ],
   "source": [
    "# группировка по году выпоска и суммирование\n",
    "data.groupby('release_year').sum()['revenue'].sort_values(ascending=False).head(1)"
   ]
  },
  {
   "cell_type": "markdown",
   "metadata": {
    "colab_type": "text",
    "id": "JAzJh4QAVp_z"
   },
   "source": [
    "# 20. Какой самый прибыльный год для студии Warner Bros?"
   ]
  },
  {
   "cell_type": "code",
   "execution_count": 48,
   "metadata": {},
   "outputs": [],
   "source": [
    "answers['20'] = '1. 2014'"
   ]
  },
  {
   "cell_type": "code",
   "execution_count": 49,
   "metadata": {
    "colab": {},
    "colab_type": "code",
    "id": "wgVu02DEVp_0"
   },
   "outputs": [
    {
     "data": {
      "text/plain": [
       "release_year\n",
       "2014    2295464519\n",
       "Name: profit, dtype: int64"
      ]
     },
     "execution_count": 49,
     "metadata": {},
     "output_type": "execute_result"
    }
   ],
   "source": [
    "# надо найти все компании в названии которых есть Warner Bros\n",
    "# поэтому не просто выбираем (x in list)\n",
    "# а любое вхождение в элемент списка: any(['name' in i for i in mylist])\n",
    "# фильтруем также по аналогии с масками в предыдущих примерах\n",
    "task_20_df = data[data.production_companies.apply(lambda x: any(['Warner Bros' in i for i in x]))]\n",
    "task_20_df.groupby('release_year').sum()['profit'].sort_values(ascending=False).head(1)"
   ]
  },
  {
   "cell_type": "markdown",
   "metadata": {
    "colab_type": "text",
    "id": "8Im1S2HRVp_4"
   },
   "source": [
    "# 21. В каком месяце за все годы суммарно вышло больше всего фильмов?"
   ]
  },
  {
   "cell_type": "code",
   "execution_count": 50,
   "metadata": {},
   "outputs": [],
   "source": [
    "answers['21'] = '4. Сентябрь'"
   ]
  },
  {
   "cell_type": "code",
   "execution_count": 51,
   "metadata": {
    "colab": {},
    "colab_type": "code",
    "id": "lev6TH7gVp_4"
   },
   "outputs": [
    {
     "data": {
      "text/plain": [
       "9    227\n",
       "Name: release_month, dtype: int64"
      ]
     },
     "execution_count": 51,
     "metadata": {},
     "output_type": "execute_result"
    }
   ],
   "source": [
    "# т.к. месяц вынесли отдельной колонкой, просто посчитаем их\n",
    "data['release_month'].value_counts().sort_values(ascending=False).head(1)"
   ]
  },
  {
   "cell_type": "markdown",
   "metadata": {
    "colab_type": "text",
    "id": "uAJsZ_NeVp_7"
   },
   "source": [
    "# 22. Сколько суммарно вышло фильмов летом? (за июнь, июль, август)"
   ]
  },
  {
   "cell_type": "code",
   "execution_count": 52,
   "metadata": {},
   "outputs": [],
   "source": [
    "answers['22'] = '2. 450'"
   ]
  },
  {
   "cell_type": "code",
   "execution_count": 53,
   "metadata": {
    "colab": {},
    "colab_type": "code",
    "id": "Aa-hEREoVp_8"
   },
   "outputs": [
    {
     "data": {
      "text/plain": [
       "450"
      ]
     },
     "execution_count": 53,
     "metadata": {},
     "output_type": "execute_result"
    }
   ],
   "source": [
    "len(data.query('release_month in [6,7,8]').index)"
   ]
  },
  {
   "cell_type": "markdown",
   "metadata": {
    "colab_type": "text",
    "id": "G94ppOY1VqAA"
   },
   "source": [
    "# 23. Для какого режиссера зима – самое продуктивное время года? "
   ]
  },
  {
   "cell_type": "code",
   "execution_count": 54,
   "metadata": {},
   "outputs": [],
   "source": [
    "answers['23'] = '5. Peter Jackson'"
   ]
  },
  {
   "cell_type": "code",
   "execution_count": 55,
   "metadata": {
    "colab": {},
    "colab_type": "code",
    "id": "RhNTsamuVqAB"
   },
   "outputs": [
    {
     "data": {
      "text/plain": [
       "Peter Jackson    7\n",
       "Name: director, dtype: int64"
      ]
     },
     "execution_count": 55,
     "metadata": {},
     "output_type": "execute_result"
    }
   ],
   "source": [
    "data.query('release_month in [1,2,12]').explode('director')['director'].value_counts().head(1)"
   ]
  },
  {
   "cell_type": "markdown",
   "metadata": {
    "colab_type": "text",
    "id": "RBo0JVjVVqAF"
   },
   "source": [
    "# 24. Какая студия дает самые длинные названия своим фильмам по количеству символов?"
   ]
  },
  {
   "cell_type": "code",
   "execution_count": 56,
   "metadata": {},
   "outputs": [],
   "source": [
    "answers['24'] = '5. Four By Two Productions'"
   ]
  },
  {
   "cell_type": "code",
   "execution_count": 57,
   "metadata": {
    "colab": {},
    "colab_type": "code",
    "id": "QRGS8L0iVqAG"
   },
   "outputs": [
    {
     "data": {
      "text/plain": [
       "'Four By Two Productions'"
      ]
     },
     "execution_count": 57,
     "metadata": {},
     "output_type": "execute_result"
    }
   ],
   "source": [
    "# длина названия вынесена в колонку title_length\n",
    "data.explode('production_companies') \\\n",
    "    .groupby('production_companies').mean() \\\n",
    "    ['title_length'].sort_values(ascending=False).index[0]"
   ]
  },
  {
   "cell_type": "markdown",
   "metadata": {
    "colab_type": "text",
    "id": "9G0hbvR7VqAK"
   },
   "source": [
    "# 25. Описание фильмов какой студии в среднем самые длинные по количеству слов?"
   ]
  },
  {
   "cell_type": "code",
   "execution_count": 58,
   "metadata": {},
   "outputs": [],
   "source": [
    "answers['25'] = '3. Four By Two Productions'"
   ]
  },
  {
   "cell_type": "code",
   "execution_count": 59,
   "metadata": {
    "colab": {},
    "colab_type": "code",
    "id": "Ge2GsLNxVqAK"
   },
   "outputs": [
    {
     "data": {
      "text/plain": [
       "'Midnight Picture Show'"
      ]
     },
     "execution_count": 59,
     "metadata": {},
     "output_type": "execute_result"
    }
   ],
   "source": [
    "# аналогично 24\n",
    "data.explode('production_companies') \\\n",
    "    .groupby('production_companies').mean() \\\n",
    "    ['overview_length'].sort_values(ascending=False).index[0]"
   ]
  },
  {
   "cell_type": "markdown",
   "metadata": {
    "colab_type": "text",
    "id": "FJ1AFt90VqAP"
   },
   "source": [
    "# 26. Какие фильмы входят в 1 процент лучших по рейтингу? \n",
    "по vote_average"
   ]
  },
  {
   "cell_type": "code",
   "execution_count": 60,
   "metadata": {},
   "outputs": [],
   "source": [
    "answers['26'] = '1. Inside Out, The Dark Knight, 12 Years a Slave'"
   ]
  },
  {
   "cell_type": "code",
   "execution_count": 61,
   "metadata": {
    "colab": {},
    "colab_type": "code",
    "id": "8qmJVq4CVqAQ"
   },
   "outputs": [
    {
     "data": {
      "text/plain": [
       "9                                          Inside Out\n",
       "34                                               Room\n",
       "118                                      Interstellar\n",
       "119                           Guardians of the Galaxy\n",
       "125                                The Imitation Game\n",
       "128                                         Gone Girl\n",
       "138                          The Grand Budapest Hotel\n",
       "370                                         Inception\n",
       "599                                   The Dark Knight\n",
       "872                                       The Pianist\n",
       "1081    The Lord of the Rings: The Return of the King\n",
       "1183                          The Wolf of Wall Street\n",
       "1191                                 12 Years a Slave\n",
       "1800                                          Memento\n",
       "Name: original_title, dtype: object"
      ]
     },
     "execution_count": 61,
     "metadata": {},
     "output_type": "execute_result"
    }
   ],
   "source": [
    "# берём .99 quantile и все фильмы с рейтингом выше\n",
    "data[ data.vote_average.quantile(.99) < data.vote_average ]['original_title']"
   ]
  },
  {
   "cell_type": "markdown",
   "metadata": {
    "colab_type": "text",
    "id": "MdXsUXbCVqAV"
   },
   "source": [
    "# 27. Какие актеры чаще всего снимаются в одном фильме вместе?\n"
   ]
  },
  {
   "cell_type": "code",
   "execution_count": 62,
   "metadata": {},
   "outputs": [],
   "source": [
    "answers['27'] = '5. Daniel Radcliffe & Rupert Grint'"
   ]
  },
  {
   "cell_type": "code",
   "execution_count": 63,
   "metadata": {
    "colab_type": "text",
    "id": "4ymnxEVoVqAW"
   },
   "outputs": [
    {
     "data": {
      "text/plain": [
       "[(('Daniel Radcliffe', 'Emma Watson'), 8),\n",
       " (('Daniel Radcliffe', 'Rupert Grint'), 8),\n",
       " (('Emma Watson', 'Rupert Grint'), 8),\n",
       " (('Ben Stiller', 'Owen Wilson'), 6),\n",
       " (('Helena Bonham Carter', 'Johnny Depp'), 6)]"
      ]
     },
     "execution_count": 63,
     "metadata": {},
     "output_type": "execute_result"
    }
   ],
   "source": [
    "# честно подсмотрел как предложил Сергей Мещеряков\n",
    "# лучший вариант\n",
    "\n",
    "data['cast_comb'] = data.cast.apply(lambda x: tuple(it.combinations(sorted(x),2)))\n",
    "Counter(data.cast_comb.values.sum())\n",
    "Counter(data.cast_comb.values.sum()).most_common(5)"
   ]
  },
  {
   "cell_type": "markdown",
   "metadata": {
    "colab_type": "text",
    "id": "U0nONFnGVqAX"
   },
   "source": [
    "# Submission"
   ]
  },
  {
   "cell_type": "code",
   "execution_count": 64,
   "metadata": {
    "colab": {},
    "colab_type": "code",
    "id": "IfcaRO9-VqAX",
    "outputId": "0f132912-32bb-4196-c98c-abfbc4ad5a5f"
   },
   "outputs": [
    {
     "data": {
      "text/plain": [
       "{'1': '5. Pirates of the Caribbean: On Stranger Tides (tt1298650)',\n",
       " '2': '2. Gods and Generals (tt0279111)',\n",
       " '3': '3. Winnie the Pooh (tt1449283)',\n",
       " '4': '2. 110',\n",
       " '5': '1. 107',\n",
       " '6': '5. Avatar (tt0499549)',\n",
       " '7': '5. The Lone Ranger (tt1210819)',\n",
       " '8': '1. 1478',\n",
       " '9': '4. The Dark Knight (tt0468569)',\n",
       " '10': '5. The Lone Ranger (tt1210819)',\n",
       " '11': '3. Drama',\n",
       " '12': '1. Drama',\n",
       " '13': '5. Peter Jackson',\n",
       " '14': '3. Robert Rodriguez',\n",
       " '15': '3. Chris Hemsworth',\n",
       " '16': '3. Matt Damon',\n",
       " '17': '2. Action',\n",
       " '18': '1. K-19: The Widowmaker (tt0267626)',\n",
       " '19': '5. 2015',\n",
       " '20': '1. 2014',\n",
       " '21': '4. Сентябрь',\n",
       " '22': '2. 450',\n",
       " '23': '5. Peter Jackson',\n",
       " '24': '5. Four By Two Productions',\n",
       " '25': '3. Four By Two Productions',\n",
       " '26': '1. Inside Out, The Dark Knight, 12 Years a Slave',\n",
       " '27': '5. Daniel Radcliffe & Rupert Grint'}"
      ]
     },
     "execution_count": 64,
     "metadata": {},
     "output_type": "execute_result"
    }
   ],
   "source": [
    "# в конце можно посмотреть свои ответы к каждому вопросу\n",
    "answers"
   ]
  },
  {
   "cell_type": "code",
   "execution_count": 65,
   "metadata": {
    "colab": {},
    "colab_type": "code",
    "id": "SiRmHPl8VqAd"
   },
   "outputs": [
    {
     "data": {
      "text/plain": [
       "27"
      ]
     },
     "execution_count": 65,
     "metadata": {},
     "output_type": "execute_result"
    }
   ],
   "source": [
    "# и убедиться что ни чего не пропустил)\n",
    "len(answers)"
   ]
  },
  {
   "cell_type": "code",
   "execution_count": null,
   "metadata": {
    "colab": {},
    "colab_type": "code",
    "id": "uCfuTkRbVqAg"
   },
   "outputs": [],
   "source": []
  },
  {
   "cell_type": "code",
   "execution_count": null,
   "metadata": {
    "colab": {},
    "colab_type": "code",
    "id": "Vwx3NrkSVqAl"
   },
   "outputs": [],
   "source": []
  }
 ],
 "metadata": {
  "colab": {
   "name": "Copy of [SF-DST] Movies IMBD v4.1 TEMPLATE.ipynb",
   "provenance": []
  },
  "kernelspec": {
   "display_name": "Python 3",
   "language": "python",
   "name": "python3"
  },
  "language_info": {
   "codemirror_mode": {
    "name": "ipython",
    "version": 3
   },
   "file_extension": ".py",
   "mimetype": "text/x-python",
   "name": "python",
   "nbconvert_exporter": "python",
   "pygments_lexer": "ipython3",
   "version": "3.8.5"
  }
 },
 "nbformat": 4,
 "nbformat_minor": 1
}
